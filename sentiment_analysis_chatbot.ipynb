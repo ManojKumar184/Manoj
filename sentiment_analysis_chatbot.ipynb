{
 "cells": [
  {
   "cell_type": "code",
   "execution_count": 1,
   "id": "374318da-5c93-4490-b1d7-e9ddb666dd67",
   "metadata": {},
   "outputs": [],
   "source": [
    "#importing modules\n",
    "import pandas as pd\n",
    "import numpy as np\n",
    "import re\n",
    "import emoji\n",
    "import contractions"
   ]
  },
  {
   "cell_type": "code",
   "execution_count": 2,
   "id": "e1ceb1a1-f960-472f-8577-57c6b9a955a3",
   "metadata": {},
   "outputs": [],
   "source": [
    "\n",
    "#reading the sentiment analysis dataset downloaded from kaggle website\n",
    "data = pd.read_csv(r'C:\\Users\\manoj\\Documents\\Teachnook\\sentiment_train.csv', encoding = 'Windows-1252')\n",
    "#taking required dataframe from the whole data\n",
    "df = data[['text', 'sentiment']].copy()\n",
    "\n",
    "#df.info()\n",
    "\n",
    "\n",
    "#removing Null values\n",
    "df.dropna()\n",
    "\n",
    "#removing html tags\n",
    "df['clean_text'] = df['text'].astype(str).apply(lambda x: re.sub('<.*?>', \"\", x))\n",
    "\n",
    "#removing contrations\n",
    "def remove_contractions(text):\n",
    "    expanded_text = contractions.fix(text)\n",
    "    return expanded_text\n",
    "df['clean_text'] = df['clean_text'].astype(str).apply(remove_contractions)\n",
    "\n",
    "#removing special characters\n",
    "df['clean_text'] = df['clean_text'].apply(lambda x: re.sub(r'[^\\w\\s]',\"\",x))\n",
    "\n",
    "#remove emojis\n",
    "def remove_emojis(text):\n",
    "    return emoji.demojize( text)\n",
    "df['clean_text'] = df['clean_text'].astype(str).apply(remove_emojis)\n",
    "\n",
    "#Converting all letters into lowercase\n",
    "df['clean_text'] = df['clean_text'].str.lower()"
   ]
  },
  {
   "cell_type": "code",
   "execution_count": 3,
   "id": "4f9bb8fd-3c3c-4351-bb4b-6b810a6c8329",
   "metadata": {},
   "outputs": [],
   "source": [
    "#importing natural language processing toolkit and other modules\n",
    "import nltk\n",
    "from nltk.tokenize import word_tokenize\n",
    "from nltk.corpus import stopwords\n",
    "from nltk.stem import WordNetLemmatizer\n",
    "\n",
    "#nltk.download('punkt')\n",
    "#nltk.download('stopwords')\n",
    "stop_words = set(stopwords.words('english'))\n",
    "#nltk.download('wordnet')\n",
    "lemmatizer = WordNetLemmatizer()\n",
    "\n",
    "#Tokenization\n",
    "df['tokens'] = df['clean_text'].apply(word_tokenize)\n",
    "\n",
    "#removing Stopwords\n",
    "def remove_stopwords(token_list):\n",
    "    return[word for word in token_list if word.lower() not in stop_words]\n",
    "\n",
    "df['tokens'] = df['tokens'].apply(remove_stopwords)\n",
    "\n",
    "#Lemmatization\n",
    "def lemmatize_tokens(tokens):\n",
    "    return[lemmatizer.lemmatize(x) for x in tokens]\n",
    "df['tokens'] = df['tokens'].apply(lemmatize_tokens)\n",
    "\n",
    "\n",
    "#df.info()\n",
    "\n",
    "#Creating strings from the filtered tokens\n",
    "df['token_string'] = df['tokens'].apply(lambda x: ' '.join(x))\n",
    "\n",
    "#Vectorization\n",
    "from sklearn.feature_extraction.text import TfidfVectorizer\n",
    "\n",
    "tfidf = TfidfVectorizer()\n",
    "X_tfidf = tfidf.fit_transform(df['token_string'])\n",
    "y = df['sentiment']"
   ]
  },
  {
   "cell_type": "code",
   "execution_count": 4,
   "id": "d7d5d024-c642-41ef-81d3-a3fc39bbabc0",
   "metadata": {},
   "outputs": [],
   "source": [
    "#importing modules for building ML model\n",
    "from sklearn.model_selection import train_test_split\n",
    "from sklearn.svm import SVC\n",
    "from sklearn.metrics import accuracy_score\n",
    "from sklearn.model_selection import GridSearchCV\n",
    "\n",
    "#Splitting the data into training and testing data\n",
    "X_train, X_test, y_train, y_test = train_test_split(X_tfidf, y, test_size = 0.2, random_state = 42)\n",
    "\n",
    "\n",
    "#Training support vector machine model\n",
    "svm_classifier = SVC(C = 10,\n",
    "                     kernel = 'linear', \n",
    "                     gamma = 'scale')\n",
    "svm_classifier.fit(X_train, y_train)\n",
    "\n",
    "\n",
    "#Checking Accuraccy\n",
    "y_pred = svm_classifier.predict(X_test)\n",
    "accuracy = accuracy_score(y_pred, y_test)"
   ]
  },
  {
   "cell_type": "code",
   "execution_count": 17,
   "id": "86fc1d34-c834-43a7-bc20-216a2d2472b0",
   "metadata": {
    "scrolled": true
   },
   "outputs": [
    {
     "name": "stdout",
     "output_type": "stream",
     "text": [
      "Welcome to Sentiment Analysis Chatbot\n",
      "Accuracy of this chatbot is 0.6634527924322358\n",
      "if you want to leave the chatbot type \"exit\"\n"
     ]
    },
    {
     "name": "stdin",
     "output_type": "stream",
     "text": [
      "you:  today is a very good day\n"
     ]
    },
    {
     "name": "stdout",
     "output_type": "stream",
     "text": [
      "...positive sentiment\n",
      "chatbot: I'm glad that your happy.\n"
     ]
    },
    {
     "name": "stdin",
     "output_type": "stream",
     "text": [
      "you:  today is a very bad day\n"
     ]
    },
    {
     "name": "stdout",
     "output_type": "stream",
     "text": [
      "...negative sentiment\n",
      "chatbot: I'm sorry to hear that.\n"
     ]
    },
    {
     "name": "stdin",
     "output_type": "stream",
     "text": [
      "you:  my name is amnoj\n"
     ]
    },
    {
     "name": "stdout",
     "output_type": "stream",
     "text": [
      "...neutral sentiment\n",
      "chatbot: Please, come here again.\n"
     ]
    },
    {
     "name": "stdin",
     "output_type": "stream",
     "text": [
      "you:  Exit@\n"
     ]
    },
    {
     "name": "stdout",
     "output_type": "stream",
     "text": [
      "...neutral sentiment\n",
      "chatbot: Please, come here again.\n"
     ]
    },
    {
     "name": "stdin",
     "output_type": "stream",
     "text": [
      "you:  Exit$\n"
     ]
    },
    {
     "name": "stdout",
     "output_type": "stream",
     "text": [
      "...neutral sentiment\n",
      "chatbot: Please, come here again.\n"
     ]
    },
    {
     "name": "stdin",
     "output_type": "stream",
     "text": [
      "you:  Exit\n"
     ]
    },
    {
     "name": "stdout",
     "output_type": "stream",
     "text": [
      "Chatbot: Good bye\n"
     ]
    }
   ],
   "source": [
    "#\"creating chatbot\"\n",
    "print(\"Welcome to Sentiment Analysis Chatbot\")\n",
    "print(\"Accuracy of this chatbot is\", accuracy)\n",
    "print('if you want to leave the chatbot type \"exit\"')\n",
    "\n",
    "#preprocessing the input data\n",
    "def preprocessed_input(n):\n",
    "    #removing contractions\n",
    "    m = remove_contractions(n)\n",
    "    \n",
    "    #removing emojis\n",
    "    m = remove_emojis(m)\n",
    "    \n",
    "    tkns = word_tokenize(m.lower())\n",
    "    filtered_tkns = [word for word in tkns if word.isalnum() and word not in stop_words]\n",
    "    preprocessed_input = \" \".join(filtered_tkns)\n",
    "    input_tfidf = tfidf.transform([preprocessed_input])\n",
    "    \n",
    "    #predicting sentiment of the user\n",
    "    predicted_sentiment = svm_classifier.predict(input_tfidf)[0]\n",
    "    return predicted_sentiment\n",
    "\n",
    "\n",
    "while True:\n",
    "    n= input('you: ')\n",
    "    predicted_sentiment = preprocessed_input(n)\n",
    "    if n.lower() == 'exit':\n",
    "        print(\"Chatbot: Good bye\")\n",
    "        break\n",
    "    elif predicted_sentiment == 'positive':\n",
    "        print(\"...positive sentiment\")\n",
    "        print(\"chatbot: I'm glad that your happy.\")\n",
    "    elif predicted_sentiment == 'negative':\n",
    "        print(\"...negative sentiment\")\n",
    "        print(\"chatbot: I'm sorry to hear that.\")\n",
    "    else:\n",
    "        print(\"...neutral sentiment\")\n",
    "        print(\"chatbot: Please, come here again.\")"
   ]
  },
  {
   "cell_type": "code",
   "execution_count": null,
   "id": "eec6195d-1d38-4ea9-80f6-269dff3bf8ed",
   "metadata": {},
   "outputs": [],
   "source": []
  },
  {
   "cell_type": "code",
   "execution_count": null,
   "id": "0c6295ec-a9f3-4c1f-b6c8-831ecfcd2d2e",
   "metadata": {},
   "outputs": [],
   "source": []
  }
 ],
 "metadata": {
  "kernelspec": {
   "display_name": "Python 3 (ipykernel)",
   "language": "python",
   "name": "python3"
  },
  "language_info": {
   "codemirror_mode": {
    "name": "ipython",
    "version": 3
   },
   "file_extension": ".py",
   "mimetype": "text/x-python",
   "name": "python",
   "nbconvert_exporter": "python",
   "pygments_lexer": "ipython3",
   "version": "3.11.7"
  }
 },
 "nbformat": 4,
 "nbformat_minor": 5
}
